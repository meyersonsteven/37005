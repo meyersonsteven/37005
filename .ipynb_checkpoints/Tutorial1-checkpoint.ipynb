{
 "cells": [
  {
   "cell_type": "code",
   "execution_count": 1,
   "id": "0ccae9d3-0902-4942-99b9-d854e3a5d520",
   "metadata": {},
   "outputs": [],
   "source": [
    "import numpy as np\n",
    "import pandas as pd\n",
    "from scipy.optimize import linprog"
   ]
  },
  {
   "cell_type": "code",
   "execution_count": 133,
   "id": "c875e3d4-d682-4a64-bab1-126ce0b4db0a",
   "metadata": {},
   "outputs": [
    {
     "name": "stdout",
     "output_type": "stream",
     "text": [
      "Risk Free Interest Rate by State Price 4.5000000000000595\n",
      "Risk Free Interest Rate by Arbitarge Free 4.500000000000015\n",
      "Borrow at 2% to buy the assett and risk free rate > 2%\n"
     ]
    }
   ],
   "source": [
    "df_1 = pd.read_csv('Q1.csv', index_col=0)\n",
    "df_1 = df_1.rename(columns={'Time 0 price' : 'Price'})\n",
    "\n",
    "A = df_1[['State 1', 'State 2' , 'State 3', 'State 4', 'State 5']].values.T\n",
    "statePrice = df_1[['State 1', 'State 2' , 'State 3', 'State 4', 'State 5']].values\n",
    "Price = df_1[['Price']].values\n",
    "\n",
    "b = np.array([1, 1 , 1, 1,1])\n",
    "\n",
    "weight, residuals, rank, singular_values = np.linalg.lstsq(A, b, rcond=None)\n",
    "\n",
    "P = np.dot(weight, df_1['Price'].values)\n",
    "\n",
    "risk_free_rate = (1/P) - 1\n",
    "\n",
    "psi, residuals, rank, _ = np.linalg.lstsq(statePrice, Price, rcond=None)\n",
    "\n",
    "print('Risk Free Interest Rate by State Price ' + str(((1/np.sum(psi))-1)*100))\n",
    "print('Risk Free Interest Rate by Arbitarge Free ' + str(risk_free_rate*100))\n",
    "print('Borrow at 2% to buy the assett and risk free rate > 2%')"
   ]
  },
  {
   "cell_type": "code",
   "execution_count": 63,
   "id": "388c88ac-e200-4628-86d3-f397feb5fa9c",
   "metadata": {},
   "outputs": [
    {
     "name": "stdout",
     "output_type": "stream",
     "text": [
      "State Price \n",
      "[[0.09594138]\n",
      " [0.15309145]\n",
      " [0.1532252 ]\n",
      " [0.34287793]\n",
      " [0.23688839]]\n",
      "As State Price is all positive, there is no arbitarge opportunity\n"
     ]
    }
   ],
   "source": [
    "df_2 = pd.read_csv('Q2.csv', index_col=0)\n",
    "df_2 = df_2.rename(columns={'Time 0 price' : 'Price'})\n",
    "\n",
    "A = df_2[['State 1', 'State 2' , 'State 3', 'State 4', 'State 5']].values.T\n",
    "statePrice = df_2[['State 1', 'State 2' , 'State 3', 'State 4', 'State 5']].values\n",
    "Price = df_2[['Price']].values\n",
    "\n",
    "psi, residuals, rank, _ = np.linalg.lstsq(statePrice, Price, rcond=None)\n",
    "\n",
    "print('State Price \\n'  + str(psi))\n",
    "\n",
    "print('As State Price is all positive, there is no arbitarge opportunity')"
   ]
  },
  {
   "cell_type": "code",
   "execution_count": 153,
   "id": "30dd9197-5227-42b9-8a3f-aa37379e1421",
   "metadata": {},
   "outputs": [
    {
     "name": "stdout",
     "output_type": "stream",
     "text": [
      "State Price \n",
      "[[-0.19756509]\n",
      " [ 0.491     ]\n",
      " [ 1.1239603 ]]\n",
      "As State Price 1 is negative, there is an arbitarge opportunity\n"
     ]
    }
   ],
   "source": [
    "df_3 = pd.read_csv('Q3.csv', index_col=0)\n",
    "df_3 = df_3.rename(columns={'Time 0 price' : 'Price'})\n",
    "\n",
    "statePrice = df_3[['State 1', 'State 2' , 'State 3']].values\n",
    "Price = df_3[['Price']].values\n",
    "\n",
    "A = df_3[['State 1', 'State 2' , 'State 3']].values.T\n",
    "b = np.array([1, 0, 0])\n",
    "\n",
    "weight, residuals, _, _ = np.linalg.lstsq(A, b, rcond=None)\n",
    "\n",
    "\n",
    "psi, residuals, rank, _ = np.linalg.lstsq(statePrice, Price, rcond=None)\n",
    "\n",
    "print('State Price \\n'  + str(psi))\n",
    "\n",
    "print('As State Price 1 is negative, there is an arbitarge opportunity')\n",
    "\n"
   ]
  },
  {
   "cell_type": "code",
   "execution_count": 150,
   "id": "1ee4374a-ce9a-4678-a278-154e4e77c690",
   "metadata": {},
   "outputs": [],
   "source": [
    "A = df_3[['State 1', 'State 2']].values\n",
    "A_new = A[:-1, :]\n",
    "b = np.array([1, 0])\n",
    "\n",
    "weight, residuals, _, _ = np.linalg.lstsq(A_new, b, rcond=None)"
   ]
  },
  {
   "cell_type": "code",
   "execution_count": 149,
   "id": "ecc4cf98-5ece-45d1-92dc-c958470c0775",
   "metadata": {},
   "outputs": [
    {
     "data": {
      "text/plain": [
       "array([-0.07856371,  0.13104532])"
      ]
     },
     "execution_count": 149,
     "metadata": {},
     "output_type": "execute_result"
    }
   ],
   "source": [
    "weight"
   ]
  },
  {
   "cell_type": "code",
   "execution_count": 155,
   "id": "37e4d546-2de4-4a68-8012-2c9ad60319f3",
   "metadata": {},
   "outputs": [],
   "source": [
    "p_up = 22.6 * weight[0] + 21.18 * weight[1]"
   ]
  },
  {
   "cell_type": "code",
   "execution_count": 158,
   "id": "533e36f8-24bb-4ca6-a34f-6933692ff0cd",
   "metadata": {},
   "outputs": [],
   "source": [
    "p_down = 94.96 * weight[0] + 56.93 * weight[1]"
   ]
  },
  {
   "cell_type": "code",
   "execution_count": 157,
   "id": "6b1c4225-a953-4a0a-b561-bfe360c24eb7",
   "metadata": {},
   "outputs": [
    {
     "data": {
      "text/html": [
       "<div>\n",
       "<style scoped>\n",
       "    .dataframe tbody tr th:only-of-type {\n",
       "        vertical-align: middle;\n",
       "    }\n",
       "\n",
       "    .dataframe tbody tr th {\n",
       "        vertical-align: top;\n",
       "    }\n",
       "\n",
       "    .dataframe thead th {\n",
       "        text-align: right;\n",
       "    }\n",
       "</style>\n",
       "<table border=\"1\" class=\"dataframe\">\n",
       "  <thead>\n",
       "    <tr style=\"text-align: right;\">\n",
       "      <th></th>\n",
       "      <th>State 1</th>\n",
       "      <th>State 2</th>\n",
       "      <th>State 3</th>\n",
       "      <th>Price</th>\n",
       "    </tr>\n",
       "  </thead>\n",
       "  <tbody>\n",
       "    <tr>\n",
       "      <th>0</th>\n",
       "      <td>22.60</td>\n",
       "      <td>21.18</td>\n",
       "      <td>10.70</td>\n",
       "      <td>17.960784</td>\n",
       "    </tr>\n",
       "    <tr>\n",
       "      <th>1</th>\n",
       "      <td>94.96</td>\n",
       "      <td>56.93</td>\n",
       "      <td>44.99</td>\n",
       "      <td>59.758824</td>\n",
       "    </tr>\n",
       "    <tr>\n",
       "      <th>2</th>\n",
       "      <td>10.00</td>\n",
       "      <td>0.00</td>\n",
       "      <td>20.00</td>\n",
       "      <td>20.503555</td>\n",
       "    </tr>\n",
       "  </tbody>\n",
       "</table>\n",
       "</div>"
      ],
      "text/plain": [
       "   State 1  State 2  State 3      Price\n",
       "0    22.60    21.18    10.70  17.960784\n",
       "1    94.96    56.93    44.99  59.758824\n",
       "2    10.00     0.00    20.00  20.503555"
      ]
     },
     "execution_count": 157,
     "metadata": {},
     "output_type": "execute_result"
    }
   ],
   "source": [
    "df_3"
   ]
  },
  {
   "cell_type": "code",
   "execution_count": 159,
   "id": "217343c7-f3c1-43e4-8a4a-7a37cd3f991b",
   "metadata": {},
   "outputs": [
    {
     "data": {
      "text/plain": [
       "np.float64(-7.598683494034185)"
      ]
     },
     "execution_count": 159,
     "metadata": {},
     "output_type": "execute_result"
    }
   ],
   "source": [
    "p_down"
   ]
  },
  {
   "cell_type": "code",
   "execution_count": null,
   "id": "20a05aba-edac-425c-a1ac-24f0b1d40d26",
   "metadata": {},
   "outputs": [],
   "source": []
  }
 ],
 "metadata": {
  "kernelspec": {
   "display_name": "Python 3 (ipykernel)",
   "language": "python",
   "name": "python3"
  },
  "language_info": {
   "codemirror_mode": {
    "name": "ipython",
    "version": 3
   },
   "file_extension": ".py",
   "mimetype": "text/x-python",
   "name": "python",
   "nbconvert_exporter": "python",
   "pygments_lexer": "ipython3",
   "version": "3.10.12"
  }
 },
 "nbformat": 4,
 "nbformat_minor": 5
}
