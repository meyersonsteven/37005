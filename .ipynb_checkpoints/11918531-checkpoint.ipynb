{
 "cells": [
  {
   "cell_type": "code",
   "execution_count": 2,
   "id": "0ccae9d3-0902-4942-99b9-d854e3a5d520",
   "metadata": {},
   "outputs": [],
   "source": [
    "import numpy as np\n",
    "import pandas as pd\n",
    "from scipy.optimize import linprog"
   ]
  },
  {
   "cell_type": "code",
   "execution_count": 72,
   "id": "c875e3d4-d682-4a64-bab1-126ce0b4db0a",
   "metadata": {},
   "outputs": [],
   "source": [
    "df_1 = pd.read_csv('Q1.csv', index_col=0)\n",
    "df_1 = df_1.rename(columns={'Time 0 price' : 'Price'})\n",
    "\n",
    "A = df_1[['State 1', 'State 2' , 'State 3', 'State 4', 'State 5']].values.T\n",
    "statePrice = df_1[['State 1', 'State 2' , 'State 3', 'State 4', 'State 5']].values\n",
    "Price = df_1[['Price']].values\n",
    "\n",
    "b = np.array([1, 1 , 1, 1,1])\n",
    "\n",
    "weight, residuals, rank, singular_values = np.linalg.lstsq(A, b, rcond=None)\n",
    "\n",
    "P = np.dot(weight, df_1['Price'].values)\n",
    "\n",
    "risk_free_rate = (1/P) - 1\n",
    "\n",
    "q, residuals, rank, _ = np.linalg.lstsq(statePrice, Price, rcond=None)\n",
    "q_normalized = q / np.sum(q)"
   ]
  },
  {
   "cell_type": "code",
   "execution_count": 73,
   "id": "a5359a2a-9c71-42b4-a190-1f9f3e3fc871",
   "metadata": {},
   "outputs": [
    {
     "name": "stdout",
     "output_type": "stream",
     "text": [
      "Risk Free Interest Rate by Arbitarge Free 4.500000000000015\n"
     ]
    }
   ],
   "source": [
    "print('Risk Free Interest Rate by Arbitarge Free ' + str(risk_free_rate*100))"
   ]
  },
  {
   "cell_type": "code",
   "execution_count": 77,
   "id": "67acd5b0-3d35-4453-944f-3e12f81eb537",
   "metadata": {},
   "outputs": [
    {
     "name": "stdout",
     "output_type": "stream",
     "text": [
      "Risk Free Interest Rate by State Price 4.5000000000000595\n"
     ]
    }
   ],
   "source": [
    "print('Risk Free Interest Rate by State Price ' + str(((1/np.sum(q))-1)*100))"
   ]
  },
  {
   "cell_type": "code",
   "execution_count": 63,
   "id": "388c88ac-e200-4628-86d3-f397feb5fa9c",
   "metadata": {},
   "outputs": [
    {
     "name": "stdout",
     "output_type": "stream",
     "text": [
      "State Price \n",
      "[[0.09594138]\n",
      " [0.15309145]\n",
      " [0.1532252 ]\n",
      " [0.34287793]\n",
      " [0.23688839]]\n",
      "State Price \n",
      "[[0.09769755]\n",
      " [0.15589374]\n",
      " [0.15602994]\n",
      " [0.3491542 ]\n",
      " [0.24122456]]\n",
      "As State Price is all positive, there is no arbitarge opportunity\n"
     ]
    }
   ],
   "source": [
    "df_2 = pd.read_csv('Q2.csv', index_col=0)\n",
    "df_2 = df_2.rename(columns={'Time 0 price' : 'Price'})\n",
    "\n",
    "A = df_2[['State 1', 'State 2' , 'State 3', 'State 4', 'State 5']].values\n",
    "statePrice = df_2[['State 1', 'State 2' , 'State 3', 'State 4', 'State 5']].values\n",
    "Price = df_2[['Price']].values\n",
    "\n",
    "b = np.array([1, 0 , 0, 0, 0])\n",
    "\n",
    "weight, residuals, rank, singular_values = np.linalg.lstsq(A.T, b, rcond=None)\n",
    "\n",
    "P = np.dot(weight, df_2['Price'].values)\n",
    "\n",
    "risk_free_rate = (1/P) - 1\n",
    "\n",
    "q, residuals, rank, _ = np.linalg.lstsq(statePrice, Price, rcond=None)\n",
    "\n",
    "q_normalized = q / np.sum(q)\n",
    "\n",
    "print('State Price \\n'  + str(q))\n",
    "\n",
    "print('State Price \\n'  + str(q_normalized))\n",
    "\n",
    "print('As State Price is all positive, there is no arbitarge opportunity')"
   ]
  },
  {
   "cell_type": "code",
   "execution_count": 21,
   "id": "a6fc4853-cd42-46c5-bf79-6a40ef310fae",
   "metadata": {},
   "outputs": [
    {
     "name": "stdout",
     "output_type": "stream",
     "text": [
      "State Price: \n",
      " [[ 7.04013631]\n",
      " [-1.56949347]\n",
      " [ 0.78928041]]\n",
      "Risk-neutral probabilities: \n",
      " [[ 1.1246362 ]\n",
      " [-0.25072088]\n",
      " [ 0.12608468]]\n"
     ]
    }
   ],
   "source": [
    "df_3 = pd.read_csv('Q3.csv', index_col=0)\n",
    "df_3 = df_3.rename(columns={'Time 0 price' : 'Price'})\n",
    "\n",
    "A = df_3[['State 1', 'State 2' , 'State 3']].values\n",
    "\n",
    "#State Price\n",
    "statePrice = df_3[['State 1', 'State 2' , 'State 3']].values\n",
    "\n",
    "# Asset prices\n",
    "S0 = df_3[['Price']].values\n",
    "\n",
    "\n",
    "# Solve A @ q = S0 for q = [q1, q2]\n",
    "q = np.linalg.solve(A.T, S0)  # Solves A.T @ q = S0\n",
    "\n",
    "# Normalize to get risk-neutral probabilities\n",
    "q_normalized = q / np.sum(q)\n",
    "\n",
    "q, q_normalized, np.sum(q_normalized)\n",
    "\n",
    "print(\"State Price: \\n\", q)\n",
    "print(\"Risk-neutral probabilities: \\n\", q_normalized)\n"
   ]
  },
  {
   "cell_type": "code",
   "execution_count": 22,
   "id": "f4b8ea61-f8c4-4de3-8bd0-67664cd8642a",
   "metadata": {},
   "outputs": [
    {
     "data": {
      "text/plain": [
       "(array([-10.        ,   3.72035833,  -3.01894607]),\n",
       " array([-19.18273348]),\n",
       " array([ 9.70957667e+01,  1.42108547e-14, -1.06581410e-14]))"
      ]
     },
     "execution_count": 22,
     "metadata": {},
     "output_type": "execute_result"
    }
   ],
   "source": [
    "from scipy.optimize import linprog\n",
    "\n",
    "# Transpose of A: now rows = states, columns = assets\n",
    "A_T = A.T  # shape (3 states, 3 assets)\n",
    "\n",
    "# Objective: minimize total cost (S0^T w)\n",
    "c = S0\n",
    "\n",
    "# Constraints: A.T @ w >= 0  →  -A.T @ w <= 0 (for linprog)\n",
    "lhs_ineq = -A_T\n",
    "rhs_ineq = np.zeros(3)\n",
    "\n",
    "# Add a small constraint to make the solution strictly profitable in at least one state\n",
    "# by forcing at least one payoff > 0 (e.g., state 1)\n",
    "# Let's also bound the weights to be between -10 and 10\n",
    "bounds = [(-10, 10)] * 3\n",
    "\n",
    "# Solve\n",
    "result = linprog(c=c, A_ub=lhs_ineq, b_ub=rhs_ineq, bounds=bounds, method='highs')\n",
    "\n",
    "# Extract results\n",
    "portfolio_weights = result.x\n",
    "initial_cost = S0.T @ portfolio_weights\n",
    "payoffs = A_T @ portfolio_weights\n",
    "\n",
    "portfolio_weights, initial_cost, payoffs"
   ]
  },
  {
   "cell_type": "code",
   "execution_count": 66,
   "id": "5487d7ee-b7b6-41b5-a923-52e4a59d9011",
   "metadata": {},
   "outputs": [
    {
     "name": "stdout",
     "output_type": "stream",
     "text": [
      "State Price: \n",
      " [[0.09803922]\n",
      " [0.14705882]\n",
      " [0.14705882]\n",
      " [0.34313725]\n",
      " [0.24509804]]\n",
      "Risk-neutral probabilities: \n",
      " [[0.1 ]\n",
      " [0.15]\n",
      " [0.15]\n",
      " [0.35]\n",
      " [0.25]]\n"
     ]
    }
   ],
   "source": [
    "df_2 = pd.read_csv('Q2.csv', index_col=0)\n",
    "df_2 = df_2.rename(columns={'Time 0 price' : 'Price'})\n",
    "\n",
    "A = df_2[['State 1', 'State 2' , 'State 3', 'State 4', 'State 5']].values\n",
    "\n",
    "#State Price\n",
    "statePrice = df_2[['State 1', 'State 2' , 'State 3', 'State 4', 'State 5']].values\n",
    "A_square = A[:5, :]     # shape (5, 5)\n",
    "# Asset prices\n",
    "S0 = df_2[['Price']].values\n",
    "S0_square = S0[:5, :]   # shape (5, 1)\n",
    "\n",
    "# Solve A @ q = S0 for q = [q1, q2]\n",
    "q = np.linalg.solve(A_square, S0_square)  # Solves A.T @ q = S0\n",
    "\n",
    "# Normalize to get risk-neutral probabilities\n",
    "q_normalized = q / np.sum(q)\n",
    "\n",
    "q, q_normalized, np.sum(q_normalized)\n",
    "\n",
    "print(\"State Price: \\n\", q)\n",
    "print(\"Risk-neutral probabilities: \\n\", q_normalized)\n"
   ]
  },
  {
   "cell_type": "code",
   "execution_count": 67,
   "id": "d0d686bd-6073-4052-8054-cba063c16326",
   "metadata": {},
   "outputs": [
    {
     "data": {
      "text/plain": [
       "(array([ 10.        ,   6.73577576,  -3.98604545, -10.        ,\n",
       "          7.17964511,  -6.22064878, -10.        ,   8.96748593]),\n",
       " array([-11.41968627]),\n",
       " array([ 2.27373675e-13,  1.13686838e-13,  0.00000000e+00, -5.68434189e-14,\n",
       "         3.97903932e-13]))"
      ]
     },
     "execution_count": 67,
     "metadata": {},
     "output_type": "execute_result"
    }
   ],
   "source": [
    "from scipy.optimize import linprog\n",
    "\n",
    "# Transpose of A: now rows = states, columns = assets\n",
    "A_T = A.T  # shape (5 states, 8 assets)\n",
    "\n",
    "# Objective: minimize total cost (S0^T w)\n",
    "c = S0\n",
    "\n",
    "# Constraints: A.T @ w >= 0  →  -A.T @ w <= 0 (for linprog)\n",
    "lhs_ineq = -A_T\n",
    "rhs_ineq = np.zeros(5)\n",
    "\n",
    "# Add a small constraint to make the solution strictly profitable in at least one state\n",
    "# by forcing at least one payoff > 0 (e.g., state 1)\n",
    "# Let's also bound the weights to be between -10 and 10\n",
    "bounds = [(-10, 10)] * 8\n",
    "\n",
    "# Solve\n",
    "result = linprog(c=c, A_ub=lhs_ineq, b_ub=rhs_ineq, bounds=bounds, method='highs')\n",
    "\n",
    "# Extract results\n",
    "portfolio_weights = result.x\n",
    "initial_cost = S0.T @ portfolio_weights\n",
    "payoffs = A_T @ portfolio_weights\n",
    "\n",
    "portfolio_weights, initial_cost, payoffs"
   ]
  },
  {
   "cell_type": "code",
   "execution_count": 68,
   "id": "5b74b92d-1900-4a40-9e95-179ecf0abc77",
   "metadata": {},
   "outputs": [
    {
     "data": {
      "text/plain": [
       "(array([[31.8555],\n",
       "        [51.599 ],\n",
       "        [37.077 ],\n",
       "        [73.127 ],\n",
       "        [39.8205],\n",
       "        [14.214 ],\n",
       "        [55.0325],\n",
       "        [63.094 ]]),\n",
       " array([[31.23088235],\n",
       "        [50.5872549 ],\n",
       "        [36.35      ],\n",
       "        [71.69313725],\n",
       "        [39.03970588],\n",
       "        [13.93529412],\n",
       "        [55.0954    ],\n",
       "        [61.85686275]]))"
      ]
     },
     "execution_count": 68,
     "metadata": {},
     "output_type": "execute_result"
    }
   ],
   "source": [
    "A @ q_normalized , S0"
   ]
  },
  {
   "cell_type": "code",
   "execution_count": null,
   "id": "c28650a9-8bcd-47b5-aa87-86a0c4bc9c5f",
   "metadata": {},
   "outputs": [],
   "source": []
  }
 ],
 "metadata": {
  "kernelspec": {
   "display_name": "Python 3 (ipykernel)",
   "language": "python",
   "name": "python3"
  },
  "language_info": {
   "codemirror_mode": {
    "name": "ipython",
    "version": 3
   },
   "file_extension": ".py",
   "mimetype": "text/x-python",
   "name": "python",
   "nbconvert_exporter": "python",
   "pygments_lexer": "ipython3",
   "version": "3.10.12"
  }
 },
 "nbformat": 4,
 "nbformat_minor": 5
}
