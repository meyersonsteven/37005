{
 "cells": [
  {
   "cell_type": "code",
   "execution_count": 2,
   "id": "0ccae9d3-0902-4942-99b9-d854e3a5d520",
   "metadata": {},
   "outputs": [],
   "source": [
    "import numpy as np\n",
    "import pandas as pd"
   ]
  },
  {
   "cell_type": "code",
   "execution_count": 3,
   "id": "c875e3d4-d682-4a64-bab1-126ce0b4db0a",
   "metadata": {},
   "outputs": [
    {
     "name": "stdout",
     "output_type": "stream",
     "text": [
      "Asset 1 State Price (q1) = 0.095694, Risk Neutral Prob = 0.100000\n",
      "Asset 2 State Price (q2) = 0.143541, Risk Neutral Prob = 0.150000\n",
      "Asset 3 State Price (q3) = 0.143541, Risk Neutral Prob = 0.150000\n",
      "Asset 4 State Price (q4) = 0.334928, Risk Neutral Prob = 0.350000\n",
      "Asset 5 State Price (q5) = 0.239234, Risk Neutral Prob = 0.250000\n",
      "a) Risk Free Interest Rate by State Price 4.5000000000000595\n",
      "b) Borrow at 2%, and invest into the market as the risk free rate is 4.5%. This guarantees 2.5% Profit\n"
     ]
    }
   ],
   "source": [
    "df_1 = pd.read_csv('Q1.csv', index_col=0)\n",
    "df_1 = df_1.rename(columns={'Time 0 price' : 'Price'})\n",
    "\n",
    "A = df_1[['State 1', 'State 2' , 'State 3', 'State 4', 'State 5']].values.T\n",
    "statePrice = df_1[['State 1', 'State 2' , 'State 3', 'State 4', 'State 5']].values\n",
    "Price = df_1[['Price']].values\n",
    "\n",
    "#Pay 1 in each state ensuring no arbitarge.\n",
    "b = np.array([1, 1 , 1, 1, 1])\n",
    "\n",
    "#Solve for Portfolio weight\n",
    "weight, residuals, rank, singular_values = np.linalg.lstsq(A, b, rcond=None)\n",
    "\n",
    "#Initial cost\n",
    "P = np.dot(weight, df_1['Price'].values)\n",
    "\n",
    "#Risk free rate\n",
    "risk_free_rate = (1/P) - 1\n",
    "\n",
    "#State Price calculation. Can derive Risk free rate from State price ((1/(Sum State Price)) -1 )\n",
    "q, residuals, rank, _ = np.linalg.lstsq(statePrice, Price, rcond=None)\n",
    "q_normalized = q / np.sum(q)\n",
    "\n",
    "q = q.flatten()\n",
    "q_normalized = q_normalized.flatten()\n",
    "\n",
    "for i in range(len(q)):\n",
    "    print(f\"Asset {i+1} State Price (q{i+1}) = {q[i]:.6f}, Risk Neutral Prob = {q_normalized[i]:.6f}\")\n",
    "\n",
    "print('a) Risk Free Interest Rate by State Price ' + str(((1/np.sum(q))-1)*100))\n",
    "print('b) Borrow at 2%, and invest into the market as the risk free rate is 4.5%. This guarantees 2.5% Profit')"
   ]
  },
  {
   "cell_type": "code",
   "execution_count": 36,
   "id": "388c88ac-e200-4628-86d3-f397feb5fa9c",
   "metadata": {},
   "outputs": [
    {
     "name": "stdout",
     "output_type": "stream",
     "text": [
      "Asset 1 State Price (q1) = 0.095941, Risk Neutral Prob = 0.097698\n",
      "Asset 2 State Price (q2) = 0.153091, Risk Neutral Prob = 0.155894\n",
      "Asset 3 State Price (q3) = 0.153225, Risk Neutral Prob = 0.156030\n",
      "Asset 4 State Price (q4) = 0.342878, Risk Neutral Prob = 0.349154\n",
      "Asset 5 State Price (q5) = 0.236888, Risk Neutral Prob = 0.241225\n",
      "Q2: Given there are 8 equation with 5 unknown (5 State Price), there are multiple solution for this. And, solving the state price by using least square method also yields positive state price. These mean there is no arbitarge opportunity as multiple solution can exist\n",
      "❌ No solution: arbitrage detected\n"
     ]
    }
   ],
   "source": [
    "df_2 = pd.read_csv('Q2.csv', index_col=0)\n",
    "df_2 = df_2.rename(columns={'Time 0 price' : 'Price'})\n",
    "\n",
    "# PayOff Price\n",
    "statePrice = df_2[['State 1', 'State 2' , 'State 3', 'State 4', 'State 5']].values\n",
    "\n",
    "#T0 Price\n",
    "Price = df_2[['Price']].values\n",
    "#State Price using least square method as system is overdetermined. No Arbitarge if state price > 0 \n",
    "q, residuals, rank, _ = np.linalg.lstsq(statePrice, Price, rcond=None)\n",
    "q = q.flatten()\n",
    "# Risk Neutral Prob\n",
    "q_normalized = q / np.sum(q)\n",
    "q_normalized = q_normalized.flatten()\n",
    "\n",
    "error = np.linalg.norm(statePrice @ q - Price)\n",
    "\n",
    "for i in range(len(q)):\n",
    "    print(f\"Asset {i+1} State Price (q{i+1}) = {q[i]:.6f}, Risk Neutral Prob = {q_normalized[i]:.6f}\")\n",
    "\n",
    "print('Q2: Given there are 8 equation with 5 unknown (5 State Price), there are multiple solution for this. And, solving the state price by using least square method also yields positive state price. These mean there is no arbitarge opportunity as multiple solution can exist')\n",
    "\n",
    "tolerance = 1e-10\n",
    "if error < tolerance:\n",
    "    print(\"✅ Solution exists: no arbitrage\")\n",
    "    print(\"State prices:\", pi)\n",
    "else:\n",
    "    print(\"❌ No solution: arbitrage detected\")"
   ]
  },
  {
   "cell_type": "code",
   "execution_count": 53,
   "id": "a6fc4853-cd42-46c5-bf79-6a40ef310fae",
   "metadata": {},
   "outputs": [
    {
     "name": "stdout",
     "output_type": "stream",
     "text": [
      "Asset 1 State Price (q1) = -0.197565 Cost: $-0.197565 with Replicated Payoff (P1) = 1.000000\n",
      "Asset 2 State Price (q2) = 0.491000 Cost: $-0.197565 with Replicated Payoff (P2) = 0.000000\n",
      "Asset 3 State Price (q3) = 1.123960 Cost: $-0.197565 with Replicated Payoff (P3) = 0.000000\n",
      "Q3) As state 1 price is negative, there is an arbitarge present. There is an arbitarge present in state 1. \n",
      "By replicating the portfolio as per the calculated weight, the initial cost is $-0.2, meaning it is possible to pocket money in the present. If State 1 is achieved, another $1 will be pocketed, and $0 in state 2 and 3. This is riskless and getting money upfront\n"
     ]
    }
   ],
   "source": [
    "df_3 = pd.read_csv('Q3.csv', index_col=0)\n",
    "df_3 = df_3.rename(columns={'Time 0 price' : 'Price'})\n",
    "\n",
    "#Payoff\n",
    "A = df_3[['State 1', 'State 2' , 'State 3']].values\n",
    "\n",
    "# Asset prices\n",
    "S0 = df_3[['Price']].values\n",
    "\n",
    "b = np.array([1 , 0 , 0])\n",
    "\n",
    "# Solve A @ q = S0 for q = [q1, q2]\n",
    "q =np.linalg.solve(A, S0)\n",
    "q = q.flatten()\n",
    "# Normalize to get risk-neutral probabilities\n",
    "q_normalized = q / np.sum(q)\n",
    "\n",
    "w = np.linalg.solve(A.T, b) \n",
    "\n",
    "cost = np.dot(S0.flatten(), w)\n",
    "\n",
    "for i in range(len(w)):\n",
    "    print(f\"Asset {i+1} State Price (q{i+1}) = {q[i]:.6f} Cost: ${cost:2f} with Replicated Payoff (P{i+1}) = {b[i]:.6f}\")\n",
    "    \n",
    "print(\"Q3) As state 1 price is negative, there is an arbitarge present. There is an arbitarge present in state 1. \" + '\\n'\n",
    "\"By replicating the portfolio as per the calculated weight, the initial cost is $-0.2, meaning it is possible to pocket money in the present. If State 1 is achieved, another $1 will be pocketed, and $0 in state 2 and 3. This is riskless and getting money upfront\")"
   ]
  },
  {
   "cell_type": "code",
   "execution_count": 47,
   "id": "e6a4e5ca",
   "metadata": {},
   "outputs": [
    {
     "name": "stdout",
     "output_type": "stream",
     "text": [
      "Asset 1 State Price (q1) = -0.197565 Cost: $-0.197565 with Replicated Payoff (P1) = 1.000000\n",
      "Asset 2 State Price (q2) = 0.491000 Cost: $-0.197565 with Replicated Payoff (P2) = 0.000000\n",
      "Asset 3 State Price (q3) = 1.123960 Cost: $-0.197565 with Replicated Payoff (P3) = 0.000000\n"
     ]
    }
   ],
   "source": [
    "for i in range(len(w)):\n",
    "    print(f\"Asset {i+1} State Price (q{i+1}) = {q[i]:.6f} Cost: ${cost:2f} with Replicated Payoff (P{i+1}) = {b[i]:.6f}\")"
   ]
  },
  {
   "cell_type": "code",
   "execution_count": 26,
   "id": "e9c3233e",
   "metadata": {},
   "outputs": [
    {
     "name": "stdout",
     "output_type": "stream",
     "text": [
      "Rank of D = 5\n"
     ]
    }
   ],
   "source": [
    "import numpy as np\n",
    "\n",
    "rank = np.linalg.matrix_rank(statePrice)\n",
    "print(\"Rank of D =\", rank)"
   ]
  },
  {
   "cell_type": "code",
   "execution_count": 27,
   "id": "adbafa54",
   "metadata": {},
   "outputs": [
    {
     "name": "stdout",
     "output_type": "stream",
     "text": [
      "Shape of null_D: (8, 3)\n"
     ]
    }
   ],
   "source": [
    "from scipy.linalg import null_space\n",
    "import numpy as np\n",
    "\n",
    "null_D = null_space(statePrice.T)\n",
    "print(\"Shape of null_D:\", null_D.shape)\n"
   ]
  },
  {
   "cell_type": "code",
   "execution_count": 28,
   "id": "b2f4176b",
   "metadata": {},
   "outputs": [
    {
     "name": "stdout",
     "output_type": "stream",
     "text": [
      "Null vector 1: cost = -0.151767, payoff = [ 7.10542736e-15 -5.32907052e-15 -1.06581410e-14  7.10542736e-15\n",
      " -7.10542736e-15]\n",
      "Null vector 2: cost = 0.524292, payoff = [ 2.66453526e-15 -3.55271368e-14 -2.48689958e-14 -4.26325641e-14\n",
      " -2.84217094e-14]\n",
      "Null vector 3: cost = -0.220900, payoff = [-1.06581410e-14 -2.84217094e-14 -1.77635684e-14 -3.55271368e-14\n",
      " -3.37507799e-14]\n"
     ]
    }
   ],
   "source": [
    "for i in range(null_D.shape[1]):\n",
    "    h = null_D[:, i]\n",
    "    payoff = h.T @ statePrice   # should be ≈ [0,0,0,0,0]\n",
    "    cost = h.T @ Price.flatten()\n",
    "    print(f\"Null vector {i+1}: cost = {cost:.6f}, payoff = {payoff}\")\n"
   ]
  },
  {
   "cell_type": "code",
   "execution_count": 24,
   "id": "b882e61d",
   "metadata": {},
   "outputs": [
    {
     "data": {
      "text/plain": [
       "np.float64(0.25231355148321016)"
      ]
     },
     "execution_count": 24,
     "metadata": {},
     "output_type": "execute_result"
    }
   ],
   "source": [
    "P\n"
   ]
  },
  {
   "cell_type": "code",
   "execution_count": 30,
   "id": "5638c7a6",
   "metadata": {},
   "outputs": [
    {
     "data": {
      "text/plain": [
       "np.float64(195.41713336601725)"
      ]
     },
     "execution_count": 30,
     "metadata": {},
     "output_type": "execute_result"
    }
   ],
   "source": [
    "error"
   ]
  },
  {
   "cell_type": "code",
   "execution_count": 32,
   "id": "cd088ec7",
   "metadata": {},
   "outputs": [
    {
     "name": "stdout",
     "output_type": "stream",
     "text": [
      "❌ No solution → arbitrage\n"
     ]
    }
   ],
   "source": [
    "from numpy.linalg import matrix_rank\n",
    "\n",
    "lhs_rank = matrix_rank(statePrice)                  # rank of A^T\n",
    "aug_rank = matrix_rank(np.column_stack([statePrice, Price]))  # rank of [A^T | p])\n",
    "\n",
    "if lhs_rank == aug_rank:\n",
    "    print(\"✅ Solution exists\")\n",
    "else:\n",
    "    print(\"❌ No solution → arbitrage\")"
   ]
  },
  {
   "cell_type": "code",
   "execution_count": 33,
   "id": "a2781c6a",
   "metadata": {},
   "outputs": [
    {
     "data": {
      "text/plain": [
       "np.int64(5)"
      ]
     },
     "execution_count": 33,
     "metadata": {},
     "output_type": "execute_result"
    }
   ],
   "source": [
    "lhs_rank"
   ]
  },
  {
   "cell_type": "code",
   "execution_count": 34,
   "id": "beca04cc",
   "metadata": {},
   "outputs": [
    {
     "data": {
      "text/plain": [
       "np.int64(6)"
      ]
     },
     "execution_count": 34,
     "metadata": {},
     "output_type": "execute_result"
    }
   ],
   "source": [
    "aug_rank"
   ]
  },
  {
   "cell_type": "code",
   "execution_count": 38,
   "id": "f314c6a6",
   "metadata": {},
   "outputs": [
    {
     "data": {
      "text/plain": [
       "array([0.34671243])"
      ]
     },
     "execution_count": 38,
     "metadata": {},
     "output_type": "execute_result"
    }
   ],
   "source": [
    "residuals"
   ]
  },
  {
   "cell_type": "code",
   "execution_count": 37,
   "id": "acf0ae6c",
   "metadata": {},
   "outputs": [
    {
     "data": {
      "text/plain": [
       "np.int32(5)"
      ]
     },
     "execution_count": 37,
     "metadata": {},
     "output_type": "execute_result"
    }
   ],
   "source": [
    "rank"
   ]
  },
  {
   "cell_type": "code",
   "execution_count": null,
   "id": "faed13ad",
   "metadata": {},
   "outputs": [],
   "source": []
  }
 ],
 "metadata": {
  "kernelspec": {
   "display_name": "myvenv",
   "language": "python",
   "name": "python3"
  },
  "language_info": {
   "codemirror_mode": {
    "name": "ipython",
    "version": 3
   },
   "file_extension": ".py",
   "mimetype": "text/x-python",
   "name": "python",
   "nbconvert_exporter": "python",
   "pygments_lexer": "ipython3",
   "version": "3.10.12"
  }
 },
 "nbformat": 4,
 "nbformat_minor": 5
}
