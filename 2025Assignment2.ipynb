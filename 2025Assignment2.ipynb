{
 "cells": [
  {
   "cell_type": "markdown",
   "id": "8fa19c4e",
   "metadata": {},
   "source": [
    "<h1 style=\"font-family:Impact,Arial;font-size:30px;\">37005 Fundamentals of Derivative Security Pricing - Spring 2025</h1>\n",
    "<h1 style=\"font-family:Impact,Arial;font-size:45px;\">Assignment Part 2</h1>\n",
    "<h2 style=\"font-family:Arial;\">Steven Meyerson</h2>\n",
    "Student ID: 11918531\n",
    "</small></p>\n",
    "<hr style=\"height:5px;border:none;color:#333;background-color:#333;\" />"
   ]
  },
  {
   "cell_type": "markdown",
   "id": "9edc5c86",
   "metadata": {},
   "source": [
    "# Standard normal CDF\n",
    "\n",
    "## Task 1\n",
    "Write a program in Python that asks a user for a number `x`, and then outputs the value of the cumulative distribution function of the standard normal distribution at `x`. *(1 mark)*\n",
    "## Example\n",
    "\n",
    "`Enter x: 0.3\n",
    "The value of the standard normal CDF at 0.3 is 0.6179114221889526`\n",
    "\n",
    "**Hint:** You'll want to use the `input(...)` and `print(...)` functions for this. Recall that `input(...)` returns a string, which must be converted to a floating point number using `float(...)`. If we do `from scipy.stats import norm`, then the cumulative distribution function of the standard normal distribution can be accessed as `norm.cdf(...)`."
   ]
  },
  {
   "cell_type": "code",
   "execution_count": 3,
   "id": "3a271cdc",
   "metadata": {},
   "outputs": [],
   "source": [
    "import numpy as np\n",
    "from scipy.stats import norm\n",
    "\n",
    "def task1_print_cdf():\n",
    "    x = float(input(\"Enter x: \"))\n",
    "    print(f\"The value of the standard normal CDF at {x} is {norm.cdf(x)}\")\n"
   ]
  },
  {
   "cell_type": "markdown",
   "id": "ff0f5d12",
   "metadata": {},
   "source": [
    "# Black/Scholes formula in Python\n",
    "The Black/Scholes price of a European call option expiring at time $T$ with strike price $K$ is\n",
    "$$\n",
    "C(S,t)=SN(d_1)−Ke^{−r(T−t)}N(d_2)\n",
    "$$\n",
    "where $S$ is the current price of the underlying asset, $t$ the current time and $r$ the continuously compounded riskfree interest rate. $N(d)$ denotes the cumulative distribution function of the standard normal distribution, and\n",
    "$$\n",
    "\\begin{eqnarray}\n",
    "d_1 &=& \\frac{\\ln\\frac{S}K+(r+\\frac12\\sigma^2)(T−t)}{\\sigma\\sqrt{T-t}}\\\\\n",
    "d_2 &=& d_1−\\sigma\\sqrt{T-t}\n",
    "\\end{eqnarray}\n",
    "$$\n",
    "where the $\\sigma$ denotes the volatility of the underlying asset.\n",
    "\n",
    "Similarly, the price of a European put option expiring at time $T$ with strike price $K$ is\n",
    "$$\n",
    "P(S,t)=Ke^{−r(T−t)}N(−d_2)−SN(−d_1)\n",
    "$$\n",
    "## Task 2\n",
    "Using the scaffold provided, write a Python function which calculates the Black/Scholes price of the option, where the function takes six arguments (in this order): $S$, $K$, $\\sigma$, $r$, $T$ and a 1 for a call or -1 for a put. <em>(2 marks)</em>\n",
    "\n",
    "## Example:\n",
    "\n",
    "`Enter the underlying stock price: 100\n",
    "Enter the strike price: 100\n",
    "Enter the volatility: 0.3\n",
    "Enter continuously compounded interest rate: 0.05\n",
    "Enter the time to maturity: 2\n",
    "Enter 1 for call or -1 for put option: 1\n",
    "The option price is: 21.193735255280203`\n",
    "\n",
    "## Another example (a put option):\n",
    "\n",
    "`Enter the underlying stock price: 100\n",
    "Enter the strike price: 100\n",
    "Enter the volatility: 0.3\n",
    "Enter continuously compounded interest rate: 0.05\n",
    "Enter the time to maturity: 2\n",
    "Enter 1 for call or -1 for put option: -1\n",
    "The option price is: 11.677477058876157`"
   ]
  },
  {
   "cell_type": "code",
   "execution_count": 2,
   "id": "c1178ebd",
   "metadata": {},
   "outputs": [
    {
     "name": "stdout",
     "output_type": "stream",
     "text": [
      "Enter the underlying stock price:  100\n",
      "Enter the strike price:  50\n",
      "Enter the volatility:  0.2\n",
      "Enter continuously compounded interest rate:  0.5\n",
      "Enter the time to maturity:  2\n",
      "Enter 1 for call or -1 for put option:  1\n"
     ]
    },
    {
     "name": "stdout",
     "output_type": "stream",
     "text": [
      "The option price is: 81.6060\n"
     ]
    }
   ],
   "source": [
    "from scipy.stats import norm\n",
    "import numpy as np\n",
    "\n",
    "def BlackScholes(S, K, sgm, r, T, callput):\n",
    "    if T <= 0:\n",
    "        return max(0.0, (S - K) if callput == 1 else (K - S))\n",
    "    if sgm <= 0:\n",
    "        # deterministic case\n",
    "        return max(0.0, (S*np.exp(r*T) - K) if callput == 1 else (K - S*np.exp(r*T)))\n",
    "    \n",
    "    d1 = (np.log(S/K) + (r + 0.5*sgm**2)*T) / (sgm * np.sqrt(T))\n",
    "    d2 = d1 - sgm * np.sqrt(T)\n",
    "    \n",
    "    if callput == 1:\n",
    "        return S * norm.cdf(d1) - K * np.exp(-r*T) * norm.cdf(d2)\n",
    "    elif callput == -1:\n",
    "        return K * np.exp(-r*T) * norm.cdf(-d2) - S * norm.cdf(-d1)\n",
    "    else:\n",
    "        raise ValueError(\"callput must be 1 (call) or -1 (put)\")\n",
    "    \n",
    "# User input\n",
    "stock = float(input('Enter the underlying stock price: '))\n",
    "strike = float(input('Enter the strike price: '))\n",
    "sigma = float(input('Enter the volatility: '))\n",
    "interest = float(input('Enter continuously compounded interest rate: '))\n",
    "maturity = float(input('Enter the time to maturity: '))\n",
    "callput = int(input('Enter 1 for call or -1 for put option: '))\n",
    "\n",
    "price = BlackScholes(stock, strike, sigma, interest, maturity, callput)\n",
    "print(f'The option price is: {price:.4f}')\n"
   ]
  },
  {
   "cell_type": "markdown",
   "id": "a4dc3ad4",
   "metadata": {},
   "source": [
    "# Monte Carlo simulation\n",
    "The goal is to calculate the expected value of a function $f(\\cdot)$ of a random variable $x$, where the distribution of $x$ is given by the probability density $\\psi(x)$, i.e.\n",
    "$$\n",
    "E[f(x)]=\\int_{-\\infty}^{\\infty}f(x)\\psi(x)dx\n",
    "$$"
   ]
  },
  {
   "cell_type": "markdown",
   "id": "5c1da3f5",
   "metadata": {},
   "source": [
    "## Outline of the Monte Carlo simulation\n",
    "1. Establish a procedure for drawing variates $x$ from the target distribution $\\psi(x)$.\n",
    "2. Initialise the variables:\n",
    "   RunningSum = 0 \n",
    "   RunningSumSquared = 0 \n",
    "   $i=1$\n",
    "3. Draw a realisation $x_i$ from the target distribution.\n",
    "4. Add $f(x_i)$ to RunningSum and  $(f(x_i))^2$ to RunningSumSquared.\n",
    "5. Increment the counter $i$. If $i$ is less than the maximum number of iterations, go to step 3.\n",
    "6. Calculate the simulated mean by dividing RunningSum by the total number of iterations.\n",
    "7. Calculate the variance of the simulations by dividing RunningSumSquared by the total number of iterations and subtracting the square of the mean."
   ]
  },
  {
   "cell_type": "markdown",
   "id": "b664e368",
   "metadata": {},
   "source": [
    "## Error estimation for Monte Carlo methods\n",
    "By the Central Limit Theorem, we know that for a large number $N$ of simulations, the simulation mean $X_N$ is approximately normally distributed, with standard deviation\n",
    "$$\n",
    "\\sqrt{\\frac{\\sigma^2}N}\n",
    "$$\n",
    "where the simulation variance is an estimate for $\\sigma^2$.\n",
    "\n",
    "Thus, if there is no bias, the simulation mean is normally distributed around the target value with a standard deviation, which decreases with $\\sqrt{N}$.\n",
    "\n",
    "A 95% confidence interval for the target value is therefore approximately given by\n",
    "$$\n",
    "\\left[X_N-2\\sqrt{\\frac{\\sigma^2}N};X_N+2\\sqrt{\\frac{\\sigma^2}N}\\right]\n",
    "$$\n",
    "\n",
    "<font color='red'>**Monte Carlo simulation without error bounds is meaningless!**</font>"
   ]
  },
  {
   "cell_type": "markdown",
   "id": "334e546d",
   "metadata": {},
   "source": [
    "The NumPy function `random.standard_normal()` returns a random variate drawn from the standard normal distribution, while `random.standard_normal(n)` returns `n` such variates in a Numpy array:"
   ]
  },
  {
   "cell_type": "code",
   "execution_count": 3,
   "id": "e55ea48c",
   "metadata": {},
   "outputs": [
    {
     "name": "stdout",
     "output_type": "stream",
     "text": [
      "-0.2308951298537916\n",
      "[-0.03940524 -1.79954319 -1.11920654 -1.14888963 -0.00889768]\n"
     ]
    }
   ],
   "source": [
    "import numpy as np\n",
    "print(np.random.standard_normal())\n",
    "n = 5\n",
    "print(np.random.standard_normal(n))"
   ]
  },
  {
   "cell_type": "markdown",
   "id": "7aa4134a",
   "metadata": {},
   "source": [
    "Recall that a standard normal random variable can be converted into a normal random variable of desired mean and standard deviation by multiplying by the standard deviation and adding the mean."
   ]
  },
  {
   "cell_type": "markdown",
   "id": "caaab61e",
   "metadata": {},
   "source": [
    "## Monte Carlo pricing of a Black/Scholes call option\n",
    "In the Black/Scholes model, the price of the underlying stock follows Geometric Brownian motion, with the dynamics under the risk-neutral measure given by\n",
    "$$S(T)=S(t)\\exp\\left\\{\\left(r−\\frac12\\sigma^2\\right)(T−t)+\\sigma(W(T)−W(t))\\right\\}$$\n",
    "Recall that the time 0 price of a European call option (and analogously the put option) expiring at time $T$ with strike price $K$ can be expressed as the expectation under the risk-neutral measure of \n",
    "$$C=E\\left[e^{−rT}\\max(0,S(T)−K)\\right]$$\n",
    "Thus we can write a Python function which calculates the Monte Carlo estimate `MC` for the Black/Scholes price of the option and the standard deviation `MCstd` of the simulation mean, where the function takes seven arguments (in this order): $S$, $K$, $\\sigma$, $r$, $T$, a 1 for a call or -1 for a put, and $n$, the number of sampling iterations of the Monte Carlo algorithm:"
   ]
  },
  {
   "cell_type": "code",
   "execution_count": 4,
   "id": "df206b66",
   "metadata": {},
   "outputs": [],
   "source": [
    "def BlackScholesMC(S,K,sgm,r,T,callput,n):\n",
    "    w = np.random.standard_normal(n)\n",
    "    ST=S*np.exp((r-0.5*sgm**2)*T+sgm*np.sqrt(T)*w)\n",
    "    payoff=callput*(ST-K) \n",
    "    payoff=payoff*(payoff>0)\n",
    "    MC=np.exp(-r*T)*np.mean(payoff)\n",
    "    MCstd=np.exp(-r*T)*np.std(payoff)/np.sqrt(n)\n",
    "    return MC, MCstd"
   ]
  },
  {
   "cell_type": "markdown",
   "id": "96c4665a",
   "metadata": {},
   "source": [
    "To run this code with user inputs:"
   ]
  },
  {
   "cell_type": "code",
   "execution_count": 5,
   "id": "59c43dec",
   "metadata": {},
   "outputs": [
    {
     "name": "stdout",
     "output_type": "stream",
     "text": [
      "Enter the underlying stock price:  100\n",
      "Enter the strike price:  50\n",
      "Enter the volatility:  0.2\n",
      "Enter continuously compounded interest rate:  0.5\n",
      "Enter the time to maturity:  2\n",
      "Enter 1 for call or -1 for put option:  1\n",
      "Enter the number of simulations:  10000\n"
     ]
    },
    {
     "name": "stdout",
     "output_type": "stream",
     "text": [
      "The MC estimate for the option price is: \n",
      "82.41165158171037\n",
      "The 2 standard deviation confidence interval for the option price is: \n",
      "81.82102502831746 83.00227813510328\n"
     ]
    }
   ],
   "source": [
    "stock = float(input('Enter the underlying stock price: '))\n",
    "strike = float(input('Enter the strike price: '))\n",
    "sigma = float(input('Enter the volatility: '))\n",
    "interest = float(input('Enter continuously compounded interest rate: '))\n",
    "maturity = float(input('Enter the time to maturity: '))\n",
    "callput = int(input('Enter 1 for call or -1 for put option: '))\n",
    "n = int(input('Enter the number of simulations: '))\n",
    "MC, MCstd = BlackScholesMC(stock,strike,sigma,interest,maturity,callput,n)\n",
    "print('The MC estimate for the option price is: ')\n",
    "print(MC)\n",
    "print('The 2 standard deviation confidence interval for the option price is: ')\n",
    "print(MC-2*MCstd,MC+2*MCstd)"
   ]
  },
  {
   "cell_type": "markdown",
   "id": "030fa6da",
   "metadata": {},
   "source": [
    "## Task 3\n",
    "Consider a European call option with maturity $T$ on a foreign asset $\\tilde S$, which pays (in domestic currency) at time $T$\n",
    "$$\n",
    "\\max[0,X(T)\\tilde S(T)-X(0)\\tilde S(T)]\n",
    "$$\n",
    "Assume that $\\tilde S$ follows the dynamics (under the foreign risk--neutral measure) of\n",
    "\\begin{eqnarray*}\n",
    "d\\tilde S(t) &=& \\tilde S(t)(\\tilde rdt+\\xi d\\tilde W(t))\n",
    "\\end{eqnarray*}\n",
    "and the exchange rate $X$ (in units of domestic currency per unit of foreign currency) follows the dynamics (under the domestic risk--neutral measure) of\n",
    "\\begin{eqnarray*}\n",
    "dX(t) &=& X(t)((r-\\tilde r)dt+\\sigma dW(t))\n",
    "\\end{eqnarray*}\n",
    "with $W(t)$ and $\\tilde W(t)$ two--dimensional standard Brownian motions under the respective measures, $r$ and $\\tilde r$ scalar constants, and $\\xi$ and $\\sigma$ are two--dimensional constant vectors.\n",
    "### Task 3(a)\n",
    "Using the scaffold provided, write a Python function which calculates the price of the option, where the function takes eight arguments (in this order): $\\tilde S(0)$, $X(0)$, $r$, $\\tilde r$, $T$, the Black/Scholes volatility of $\\tilde S$, the Black/Scholes volatility of $X$ and the correlation coefficient between the dynamics of $\\tilde S$ and $X$. <em>(9 marks)</em>"
   ]
  },
  {
   "cell_type": "code",
   "execution_count": 35,
   "id": "b3d8b516",
   "metadata": {},
   "outputs": [],
   "source": [
    "def Task3Option(S0, X0, r, r_f, T, volS, volX, rho):\n",
    "    sqrtT = np.sqrt(T)\n",
    "    sigma_c = volX * sqrtT * np.sqrt(1 - rho**2)\n",
    "    mu_X = (r - r_f - 0.5 * volX**2) * T\n",
    "    mu_S = (r_f - rho * volS * volX - 0.5 * volS**2) * T\n",
    "\n",
    "    k1 = sqrtT * (volS + rho * volX)\n",
    "    k2 = sqrtT * volS\n",
    "    beta = rho / np.sqrt(1 - rho**2)\n",
    "\n",
    "    alpha1 = (mu_X + sigma_c**2) / sigma_c\n",
    "    alpha2 = mu_X / sigma_c\n",
    "\n",
    "    d1 = (alpha1 + beta * k1) / np.sqrt(1 + beta**2)\n",
    "    d2 = (alpha2 + beta * k2) / np.sqrt(1 + beta**2)\n",
    "\n",
    "    pref = np.exp(-r * T) * S0 * X0 * np.exp(mu_S)\n",
    "    term1 = np.exp(mu_X + 0.5 * sigma_c**2 + 0.5 * k1**2) * norm.cdf(d1)\n",
    "    term2 = np.exp(0.5 * k2**2) * norm.cdf(d2)\n",
    "\n",
    "    return pref * (term1 - term2)"
   ]
  },
  {
   "cell_type": "markdown",
   "id": "36519481",
   "metadata": {},
   "source": [
    "### Task 3(b)\n",
    "Calculate the price of this option by Monte Carlo simulation and use this to verify that your implementation of Task 3(a) is correct. *(12 marks)*"
   ]
  },
  {
   "cell_type": "code",
   "execution_count": 36,
   "id": "b5c8b706",
   "metadata": {},
   "outputs": [],
   "source": [
    "def Task3_MC_verify(S0, X0, r, r_f, T, volS, volX, rho, n):\n",
    "    cov = np.array([[1.0, rho],\n",
    "                    [rho, 1.0]])\n",
    "    L = np.linalg.cholesky(cov)\n",
    "\n",
    "    z = np.random.randn(2, n)\n",
    "    w = L @ z\n",
    "\n",
    "    X_T = X0 * np.exp((r - r_f - 0.5*volX**2)*T + volX*np.sqrt(T)*w[0])\n",
    "    S_T = S0 * np.exp((r_f - rho*volS*volX - 0.5*volS**2)*T + volS*np.sqrt(T)*w[1])\n",
    "    payoff = S_T * np.maximum(X_T - X0, 0.0)\n",
    "\n",
    "    price = np.exp(-r*T) * np.mean(payoff)\n",
    "    std_err = np.exp(-r*T) * np.std(payoff) / np.sqrt(n)\n",
    "\n",
    "    return price, std_err"
   ]
  },
  {
   "cell_type": "code",
   "execution_count": 37,
   "id": "d49aaf74",
   "metadata": {},
   "outputs": [
    {
     "name": "stdout",
     "output_type": "stream",
     "text": [
      "The Closed form option price is: \n",
      "6.208394043356227\n"
     ]
    }
   ],
   "source": [
    "closed_form_price = Task3Option(100,1.5,0.04,0.05,2,0.3,0.08,0.25)\n",
    "print('The Closed form option price is: ')\n",
    "print(closed_form_price)"
   ]
  },
  {
   "cell_type": "code",
   "execution_count": 38,
   "id": "2fe55192-96c2-4cde-ba1b-7f098e0798c8",
   "metadata": {},
   "outputs": [
    {
     "name": "stdout",
     "output_type": "stream",
     "text": [
      "The MC estimate for the option price is: \n",
      "6.195891776430672\n",
      "The 2 standard deviation confidence interval for the option price is: \n",
      "6.170204821487991 6.221578731373353\n"
     ]
    }
   ],
   "source": [
    "MC, MCstd = Task3_MC_verify(100,1.5,0.04,0.05,2,0.3,0.08,0.25,1000000)\n",
    "print('The MC estimate for the option price is: ')\n",
    "print(MC)\n",
    "print('The 2 standard deviation confidence interval for the option price is: ')\n",
    "print(MC-2*MCstd,MC+2*MCstd)"
   ]
  },
  {
   "cell_type": "code",
   "execution_count": null,
   "id": "12b6da34-4e2f-485e-ba90-e70eeb0c1ed3",
   "metadata": {},
   "outputs": [],
   "source": []
  }
 ],
 "metadata": {
  "kernelspec": {
   "display_name": "myvenv",
   "language": "python",
   "name": "python3"
  },
  "language_info": {
   "codemirror_mode": {
    "name": "ipython",
    "version": 3
   },
   "file_extension": ".py",
   "mimetype": "text/x-python",
   "name": "python",
   "nbconvert_exporter": "python",
   "pygments_lexer": "ipython3",
   "version": "3.10.12"
  }
 },
 "nbformat": 4,
 "nbformat_minor": 5
}
