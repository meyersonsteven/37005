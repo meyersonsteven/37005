{
 "cells": [
  {
   "cell_type": "code",
   "execution_count": 4,
   "id": "0ccae9d3-0902-4942-99b9-d854e3a5d520",
   "metadata": {},
   "outputs": [],
   "source": [
    "import numpy as np\n",
    "import pandas as pd"
   ]
  },
  {
   "cell_type": "code",
   "execution_count": 5,
   "id": "c875e3d4-d682-4a64-bab1-126ce0b4db0a",
   "metadata": {},
   "outputs": [
    {
     "name": "stdout",
     "output_type": "stream",
     "text": [
      "Asset 1 State Price (q1) = 0.095941, Risk Neutral Prob = 0.097698\n",
      "Asset 2 State Price (q2) = 0.153091, Risk Neutral Prob = 0.155894\n",
      "Asset 3 State Price (q3) = 0.153225, Risk Neutral Prob = 0.156030\n",
      "Asset 4 State Price (q4) = 0.342878, Risk Neutral Prob = 0.349154\n",
      "Asset 5 State Price (q5) = 0.236888, Risk Neutral Prob = 0.241225\n",
      "a) Risk Free Interest Rate by State Price 1.8304684007552918\n",
      "b) Borrow at 2%, and invest into the market as the risk free rate is 4.5%. This guarantees 2.5% Profit\n"
     ]
    }
   ],
   "source": [
    "df_1 = pd.read_csv('Q2.csv', index_col=0)\n",
    "df_1 = df_1.rename(columns={'Time 0 price' : 'Price'})\n",
    "\n",
    "A = df_1[['State 1', 'State 2' , 'State 3', 'State 4', 'State 5']].values.T\n",
    "statePrice = df_1[['State 1', 'State 2' , 'State 3', 'State 4', 'State 5']].values\n",
    "Price = df_1[['Price']].values\n",
    "\n",
    "#Pay 1 in each state ensuring no arbitarge.\n",
    "b = np.array([1, 1 , 1, 1, 1])\n",
    "\n",
    "#Solve for Portfolio weight\n",
    "weight, residuals, rank, singular_values = np.linalg.lstsq(A, b, rcond=None)\n",
    "\n",
    "#Initial cost\n",
    "P = np.dot(weight, df_1['Price'].values)\n",
    "\n",
    "#Risk free rate\n",
    "risk_free_rate = (1/P) - 1\n",
    "\n",
    "#State Price calculation. Can derive Risk free rate from State price ((1/(Sum State Price)) -1 )\n",
    "q, residuals, rank, _ = np.linalg.lstsq(statePrice, Price, rcond=None)\n",
    "q_normalized = q / np.sum(q)\n",
    "\n",
    "q = q.flatten()\n",
    "q_normalized = q_normalized.flatten()\n",
    "\n",
    "for i in range(len(q)):\n",
    "    print(f\"Asset {i+1} State Price (q{i+1}) = {q[i]:.6f}, Risk Neutral Prob = {q_normalized[i]:.6f}\")\n",
    "\n",
    "print('a) Risk Free Interest Rate by State Price ' + str(((1/np.sum(q))-1)*100))\n",
    "print('b) Borrow at 2%, and invest into the market as the risk free rate is 4.5%. This guarantees 2.5% Profit')"
   ]
  },
  {
   "cell_type": "code",
   "execution_count": 4,
   "id": "a6fc4853-cd42-46c5-bf79-6a40ef310fae",
   "metadata": {},
   "outputs": [
    {
     "name": "stdout",
     "output_type": "stream",
     "text": [
      "Asset 1 State Price (q1) = -0.197565 Cost: $-0.197565 with Replicated Payoff (P1) = 1.000000\n",
      "Asset 2 State Price (q2) = 0.491000 Cost: $-0.197565 with Replicated Payoff (P2) = 0.000000\n",
      "Asset 3 State Price (q3) = 1.123960 Cost: $-0.197565 with Replicated Payoff (P3) = 0.000000\n",
      "Q3) As state 1 price is negative, there is an arbitarge present. There is an arbitarge present in state 1. \n",
      "By replicating the portfolio as per the calculated weight, the initial cost is $-0.2, meaning it is possible to pocket money in the present. If State 1 is achieved, another $1 will be pocketed, and $0 in state 2 and 3. This is riskless and getting money upfront\n"
     ]
    }
   ],
   "source": [
    "df_3 = pd.read_csv('Q3.csv', index_col=0)\n",
    "df_3 = df_3.rename(columns={'Time 0 price' : 'Price'})\n",
    "\n",
    "#Payoff\n",
    "A = df_3[['State 1', 'State 2' , 'State 3']].values\n",
    "\n",
    "# Asset prices\n",
    "S0 = df_3[['Price']].values\n",
    "\n",
    "b = np.array([1 , 0 , 0])\n",
    "\n",
    "# Solve A @ q = S0 for q = [q1, q2]\n",
    "q =np.linalg.solve(A, S0)\n",
    "q = q.flatten()\n",
    "# Normalize to get risk-neutral probabilities\n",
    "q_normalized = q / np.sum(q)\n",
    "\n",
    "w = np.linalg.solve(A.T, b) \n",
    "\n",
    "cost = np.dot(S0.flatten(), w)\n",
    "\n",
    "for i in range(len(w)):\n",
    "    print(f\"Asset {i+1} State Price (q{i+1}) = {q[i]:.6f} Cost: ${cost:2f} with Replicated Payoff (P{i+1}) = {b[i]:.6f}\")\n",
    "    \n",
    "print(\"Q3) As state 1 price is negative, there is an arbitarge present. There is an arbitarge present in state 1. \" + '\\n'\n",
    "\"By replicating the portfolio as per the calculated weight, the initial cost is $-0.2, meaning it is possible to pocket money in the present. If State 1 is achieved, another $1 will be pocketed, and $0 in state 2 and 3. This is riskless and getting money upfront\")"
   ]
  },
  {
   "cell_type": "code",
   "execution_count": 5,
   "id": "e6a4e5ca",
   "metadata": {},
   "outputs": [
    {
     "name": "stdout",
     "output_type": "stream",
     "text": [
      "Asset 1 State Price (q1) = -0.197565 Cost: $-0.197565 with Replicated Payoff (P1) = 1.000000\n",
      "Asset 2 State Price (q2) = 0.491000 Cost: $-0.197565 with Replicated Payoff (P2) = 0.000000\n",
      "Asset 3 State Price (q3) = 1.123960 Cost: $-0.197565 with Replicated Payoff (P3) = 0.000000\n"
     ]
    }
   ],
   "source": [
    "for i in range(len(w)):\n",
    "    print(f\"Asset {i+1} State Price (q{i+1}) = {q[i]:.6f} Cost: ${cost:2f} with Replicated Payoff (P{i+1}) = {b[i]:.6f}\")"
   ]
  },
  {
   "cell_type": "code",
   "execution_count": null,
   "id": "20277468",
   "metadata": {},
   "outputs": [],
   "source": []
  }
 ],
 "metadata": {
  "kernelspec": {
   "display_name": "myvenv",
   "language": "python",
   "name": "python3"
  },
  "language_info": {
   "codemirror_mode": {
    "name": "ipython",
    "version": 3
   },
   "file_extension": ".py",
   "mimetype": "text/x-python",
   "name": "python",
   "nbconvert_exporter": "python",
   "pygments_lexer": "ipython3",
   "version": "3.10.12"
  }
 },
 "nbformat": 4,
 "nbformat_minor": 5
}
